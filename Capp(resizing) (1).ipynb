{
 "cells": [
  {
   "cell_type": "code",
   "execution_count": 1,
   "id": "d7a27791",
   "metadata": {},
   "outputs": [],
   "source": [
    "# pip install Pillow"
   ]
  },
  {
   "cell_type": "code",
   "execution_count": 2,
   "id": "68e597b2",
   "metadata": {},
   "outputs": [],
   "source": [
    "from PIL import Image"
   ]
  },
  {
   "cell_type": "code",
   "execution_count": 3,
   "id": "e3c16360",
   "metadata": {},
   "outputs": [],
   "source": [
    "# pip install torch"
   ]
  },
  {
   "cell_type": "code",
   "execution_count": 4,
   "id": "e1e9ea15",
   "metadata": {},
   "outputs": [],
   "source": [
    "# pip install opencv-python"
   ]
  },
  {
   "cell_type": "code",
   "execution_count": 4,
   "id": "28f67b63",
   "metadata": {},
   "outputs": [],
   "source": [
    "from __future__ import division\n",
    "import time\n",
    "import click\n",
    "import numpy as np\n",
    "import torch\n",
    "import cv2\n",
    "import glob\n",
    "from PIL import Image\n",
    "\n",
    "# import torch.nn\n",
    "# import data\n",
    "# import tta\n",
    "# import util"
   ]
  },
  {
   "cell_type": "markdown",
   "id": "3b6829d5",
   "metadata": {},
   "source": [
    "### Training Dataset"
   ]
  },
  {
   "cell_type": "code",
   "execution_count": 7,
   "id": "a4ee89cd",
   "metadata": {},
   "outputs": [],
   "source": [
    "filenames_train = glob.glob(\"D:\\\\Indian Diabetes\\\\idrid\\\\. Segmentation\\\\1. Original Images\\\\a. Training\\\\*.jpg\")"
   ]
  },
  {
   "cell_type": "code",
   "execution_count": 8,
   "id": "66080eb8",
   "metadata": {},
   "outputs": [
    {
     "name": "stdout",
     "output_type": "stream",
     "text": [
      "(0,)\n"
     ]
    }
   ],
   "source": [
    "filenames_train.sort()\n",
    "train_images = [cv2.imread(img) for img in filenames_train]\n",
    "print(np.shape(train_images))"
   ]
  },
  {
   "cell_type": "code",
   "execution_count": 33,
   "id": "2aff555a",
   "metadata": {},
   "outputs": [],
   "source": [
    "def load_image( infilename ) :\n",
    "    img = Image.open( infilename )\n",
    "    img.load()\n",
    "    data = np.asarray( img, dtype=\"uint8\" )\n",
    "    return data"
   ]
  },
  {
   "cell_type": "code",
   "execution_count": 34,
   "id": "0bf8b1a6",
   "metadata": {},
   "outputs": [
    {
     "name": "stdout",
     "output_type": "stream",
     "text": [
      "0\n",
      "1\n",
      "2\n",
      "3\n",
      "4\n",
      "5\n",
      "6\n",
      "7\n",
      "8\n",
      "9\n",
      "10\n",
      "11\n",
      "12\n",
      "13\n",
      "14\n",
      "15\n",
      "16\n",
      "17\n",
      "18\n",
      "19\n",
      "20\n",
      "21\n",
      "22\n",
      "23\n",
      "24\n",
      "25\n",
      "26\n",
      "27\n",
      "28\n",
      "29\n",
      "30\n",
      "31\n",
      "32\n",
      "33\n",
      "34\n",
      "35\n",
      "36\n",
      "37\n",
      "38\n",
      "39\n",
      "40\n",
      "41\n",
      "42\n",
      "43\n",
      "44\n",
      "45\n",
      "46\n",
      "47\n",
      "48\n",
      "49\n",
      "50\n",
      "51\n",
      "52\n",
      "53\n",
      "54\n",
      "55\n",
      "56\n",
      "57\n",
      "58\n",
      "59\n",
      "60\n",
      "61\n",
      "62\n",
      "63\n",
      "64\n",
      "65\n",
      "66\n",
      "67\n",
      "68\n",
      "69\n",
      "70\n",
      "71\n",
      "72\n",
      "73\n",
      "74\n",
      "75\n",
      "76\n",
      "77\n",
      "78\n",
      "79\n",
      "80\n",
      "81\n",
      "82\n",
      "83\n",
      "84\n",
      "85\n",
      "86\n",
      "87\n",
      "88\n",
      "89\n",
      "90\n",
      "91\n",
      "92\n",
      "93\n",
      "94\n",
      "95\n",
      "96\n",
      "97\n",
      "98\n",
      "99\n",
      "100\n",
      "101\n",
      "102\n",
      "103\n",
      "104\n",
      "105\n",
      "106\n",
      "107\n",
      "108\n",
      "109\n",
      "110\n",
      "111\n",
      "112\n",
      "113\n",
      "114\n",
      "115\n",
      "116\n",
      "117\n",
      "118\n",
      "119\n",
      "120\n",
      "121\n",
      "122\n",
      "123\n",
      "124\n",
      "125\n",
      "126\n",
      "127\n",
      "128\n",
      "129\n",
      "130\n",
      "131\n",
      "132\n",
      "133\n",
      "134\n",
      "135\n",
      "136\n",
      "137\n",
      "138\n",
      "139\n",
      "140\n",
      "141\n",
      "142\n",
      "143\n",
      "144\n",
      "145\n",
      "146\n",
      "147\n",
      "148\n",
      "149\n",
      "150\n",
      "151\n",
      "152\n",
      "153\n",
      "154\n",
      "155\n",
      "156\n",
      "157\n",
      "158\n",
      "159\n",
      "160\n",
      "161\n",
      "162\n",
      "163\n",
      "164\n",
      "165\n",
      "166\n",
      "167\n",
      "168\n",
      "169\n",
      "170\n",
      "171\n",
      "172\n",
      "173\n",
      "174\n",
      "175\n",
      "176\n",
      "177\n",
      "178\n",
      "179\n",
      "180\n",
      "181\n",
      "182\n",
      "183\n",
      "184\n",
      "185\n",
      "186\n",
      "187\n",
      "188\n",
      "189\n",
      "190\n",
      "191\n",
      "192\n",
      "193\n",
      "194\n",
      "195\n",
      "196\n",
      "197\n",
      "198\n",
      "199\n",
      "200\n",
      "201\n",
      "202\n",
      "203\n",
      "204\n",
      "205\n",
      "206\n",
      "207\n",
      "208\n",
      "209\n",
      "210\n",
      "211\n",
      "212\n",
      "213\n",
      "214\n",
      "215\n",
      "216\n",
      "217\n",
      "218\n",
      "219\n",
      "220\n",
      "221\n",
      "222\n",
      "223\n",
      "224\n",
      "225\n",
      "226\n",
      "227\n",
      "228\n",
      "229\n",
      "230\n",
      "231\n",
      "232\n",
      "233\n",
      "234\n",
      "235\n",
      "236\n",
      "237\n",
      "238\n",
      "239\n",
      "240\n",
      "241\n",
      "242\n",
      "243\n",
      "244\n",
      "245\n",
      "246\n",
      "247\n",
      "248\n",
      "249\n",
      "250\n",
      "251\n",
      "252\n",
      "253\n",
      "254\n",
      "255\n",
      "256\n",
      "257\n",
      "258\n",
      "259\n",
      "260\n",
      "261\n",
      "262\n",
      "263\n",
      "264\n",
      "265\n",
      "266\n",
      "267\n",
      "268\n",
      "269\n",
      "270\n",
      "271\n",
      "272\n",
      "273\n",
      "274\n",
      "275\n",
      "276\n",
      "277\n",
      "278\n",
      "279\n",
      "280\n",
      "281\n",
      "282\n",
      "283\n",
      "284\n",
      "285\n",
      "286\n",
      "287\n",
      "288\n",
      "289\n",
      "290\n",
      "291\n",
      "292\n",
      "293\n",
      "294\n",
      "295\n",
      "296\n",
      "297\n",
      "298\n",
      "299\n",
      "300\n",
      "301\n",
      "302\n",
      "303\n",
      "304\n",
      "305\n",
      "306\n",
      "307\n",
      "308\n",
      "309\n",
      "310\n",
      "311\n",
      "312\n",
      "313\n",
      "314\n",
      "315\n",
      "316\n",
      "317\n",
      "318\n",
      "319\n",
      "320\n",
      "321\n",
      "322\n",
      "323\n",
      "324\n",
      "325\n",
      "326\n",
      "327\n",
      "328\n",
      "329\n",
      "330\n",
      "331\n",
      "332\n",
      "333\n",
      "334\n",
      "335\n",
      "336\n",
      "337\n",
      "338\n",
      "339\n",
      "340\n",
      "341\n",
      "342\n",
      "343\n",
      "344\n",
      "345\n",
      "346\n",
      "347\n",
      "348\n",
      "349\n",
      "350\n",
      "351\n",
      "352\n",
      "353\n",
      "354\n",
      "355\n",
      "356\n",
      "357\n",
      "358\n",
      "359\n",
      "360\n",
      "361\n",
      "362\n",
      "363\n",
      "364\n",
      "365\n",
      "366\n",
      "367\n",
      "368\n",
      "369\n",
      "370\n",
      "371\n",
      "372\n",
      "373\n",
      "374\n",
      "375\n",
      "376\n",
      "377\n",
      "378\n",
      "379\n",
      "380\n",
      "381\n",
      "382\n",
      "383\n",
      "384\n",
      "385\n",
      "386\n",
      "387\n",
      "388\n",
      "389\n",
      "390\n",
      "391\n",
      "392\n",
      "393\n",
      "394\n",
      "395\n",
      "396\n",
      "397\n",
      "398\n",
      "399\n",
      "400\n",
      "401\n",
      "402\n",
      "403\n",
      "404\n",
      "405\n",
      "406\n",
      "407\n",
      "408\n",
      "409\n",
      "410\n",
      "411\n",
      "412\n",
      "(413, 356, 536, 3)\n"
     ]
    }
   ],
   "source": [
    "filenames_train = glob.glob(\"J:\\\\Indian Diabetes\\\\idrid\\\\B. Disease Grading\\\\1. Original Images\\\\a. Training Set//*.jpg\")\n",
    "filenames_train.sort()\n",
    "# train_images = [load_image(img) for img in filenames]\n",
    "train_images = []\n",
    "count = 0\n",
    "for img in filenames_train:\n",
    "  print(count)\n",
    "  train_images.append(load_image(img))\n",
    "  count += 1\n",
    "print(np.shape(train_images))"
   ]
  },
  {
   "cell_type": "markdown",
   "id": "2efb35ee",
   "metadata": {},
   "source": [
    "# Resizing the Groundtruth images"
   ]
  },
  {
   "cell_type": "code",
   "execution_count": 10,
   "id": "fd841a67",
   "metadata": {},
   "outputs": [],
   "source": [
    "import PIL\n",
    "import os\n",
    "import os.path\n",
    "from PIL import Image"
   ]
  },
  {
   "cell_type": "markdown",
   "id": "314b7588",
   "metadata": {},
   "source": [
    "## Training"
   ]
  },
  {
   "cell_type": "code",
   "execution_count": 11,
   "id": "ecabfb9f",
   "metadata": {},
   "outputs": [],
   "source": [
    "f = r'D:\\Indian Diabetes\\idrid\\A. Segmentation\\1. Original Images\\a. Training'"
   ]
  },
  {
   "cell_type": "code",
   "execution_count": 12,
   "id": "745b2cc8",
   "metadata": {},
   "outputs": [],
   "source": [
    "for file in os.listdir(f):\n",
    "    f_img = f+\"/\"+file\n",
    "    img = Image.open(f_img)\n",
    "    img = img.resize((536,356))\n",
    "    img.save(f_img)"
   ]
  },
  {
   "cell_type": "markdown",
   "id": "bf354713",
   "metadata": {},
   "source": [
    "## Testing"
   ]
  },
  {
   "cell_type": "code",
   "execution_count": 15,
   "id": "4538715f",
   "metadata": {},
   "outputs": [],
   "source": [
    "f = r'D:\\Indian Diabetes\\idrid\\A. Segmentation\\1. Original Images\\b. Testing'"
   ]
  },
  {
   "cell_type": "code",
   "execution_count": 16,
   "id": "31d2159f",
   "metadata": {},
   "outputs": [],
   "source": [
    "for file in os.listdir(f):\n",
    "    f_img = f+\"/\"+file\n",
    "    img = Image.open(f_img)\n",
    "    img = img.resize((536,356))\n",
    "    img.save(f_img)"
   ]
  },
  {
   "cell_type": "markdown",
   "id": "6d38f91b",
   "metadata": {},
   "source": [
    "## Training\n"
   ]
  },
  {
   "cell_type": "markdown",
   "id": "d354c8e6",
   "metadata": {},
   "source": [
    "### 1. Microaneurysms"
   ]
  },
  {
   "cell_type": "code",
   "execution_count": 9,
   "id": "fc898dfd",
   "metadata": {},
   "outputs": [],
   "source": [
    "f = r'D:\\Indian Diabetes\\idrid\\A. Segmentation\\2. All Segmentation Groundtruths\\a. Training Set\\1. Microaneurysms'"
   ]
  },
  {
   "cell_type": "code",
   "execution_count": 11,
   "id": "94e79638",
   "metadata": {},
   "outputs": [],
   "source": [
    "for file in os.listdir(f):\n",
    "    f_img = f+\"/\"+file\n",
    "    img = Image.open(f_img)\n",
    "    img = img.resize((536,356))\n",
    "    img.save(f_img)"
   ]
  },
  {
   "cell_type": "markdown",
   "id": "1e89a942",
   "metadata": {},
   "source": [
    "### 2. Haemorrhages"
   ]
  },
  {
   "cell_type": "code",
   "execution_count": 13,
   "id": "ed2b105d",
   "metadata": {},
   "outputs": [],
   "source": [
    "f = r'D:\\Indian Diabetes\\idrid\\A. Segmentation\\2. All Segmentation Groundtruths\\a. Training Set\\2. Haemorrhages'"
   ]
  },
  {
   "cell_type": "code",
   "execution_count": 14,
   "id": "bd2c69de",
   "metadata": {},
   "outputs": [],
   "source": [
    "for file in os.listdir(f):\n",
    "    f_img = f+\"/\"+file\n",
    "    img = Image.open(f_img)\n",
    "    img = img.resize((536,356))\n",
    "    img.save(f_img)"
   ]
  },
  {
   "cell_type": "markdown",
   "id": "b61b7cc0",
   "metadata": {},
   "source": [
    "### 3. Hard Exudates"
   ]
  },
  {
   "cell_type": "code",
   "execution_count": 15,
   "id": "b6e97406",
   "metadata": {},
   "outputs": [],
   "source": [
    "f = r'D:\\Indian Diabetes\\idrid\\A. Segmentation\\2. All Segmentation Groundtruths\\a. Training Set\\3. Hard Exudates'"
   ]
  },
  {
   "cell_type": "code",
   "execution_count": 16,
   "id": "2ff20ba9",
   "metadata": {},
   "outputs": [],
   "source": [
    "for file in os.listdir(f):\n",
    "    f_img = f+\"/\"+file\n",
    "    img = Image.open(f_img)\n",
    "    img = img.resize((536,356))\n",
    "    img.save(f_img)"
   ]
  },
  {
   "cell_type": "markdown",
   "id": "25243caa",
   "metadata": {},
   "source": [
    "### 4. Soft Exudates"
   ]
  },
  {
   "cell_type": "code",
   "execution_count": 17,
   "id": "024d23e3",
   "metadata": {},
   "outputs": [],
   "source": [
    "f = r'D:\\Indian Diabetes\\idrid\\A. Segmentation\\2. All Segmentation Groundtruths\\a. Training Set\\4. Soft Exudates'"
   ]
  },
  {
   "cell_type": "code",
   "execution_count": 18,
   "id": "8511f527",
   "metadata": {},
   "outputs": [],
   "source": [
    "for file in os.listdir(f):\n",
    "    f_img = f+\"/\"+file\n",
    "    img = Image.open(f_img)\n",
    "    img = img.resize((536,356))\n",
    "    img.save(f_img)"
   ]
  },
  {
   "cell_type": "markdown",
   "id": "71e3498a",
   "metadata": {},
   "source": [
    "### 5. Optic Disc"
   ]
  },
  {
   "cell_type": "code",
   "execution_count": 19,
   "id": "474dfc5a",
   "metadata": {},
   "outputs": [],
   "source": [
    "f = r'D:\\Indian Diabetes\\idrid\\A. Segmentation\\2. All Segmentation Groundtruths\\a. Training Set\\5. Optic Disc'"
   ]
  },
  {
   "cell_type": "code",
   "execution_count": 20,
   "id": "0514afec",
   "metadata": {},
   "outputs": [],
   "source": [
    "for file in os.listdir(f):\n",
    "    f_img = f+\"/\"+file\n",
    "    img = Image.open(f_img)\n",
    "    img = img.resize((536,356))\n",
    "    img.save(f_img)"
   ]
  },
  {
   "cell_type": "code",
   "execution_count": null,
   "id": "16c86f74",
   "metadata": {},
   "outputs": [],
   "source": []
  },
  {
   "cell_type": "markdown",
   "id": "182c44ee",
   "metadata": {},
   "source": [
    "## Testing Groundtruths"
   ]
  },
  {
   "cell_type": "markdown",
   "id": "ae37b67c",
   "metadata": {},
   "source": [
    "### 1. Microaneurysms"
   ]
  },
  {
   "cell_type": "code",
   "execution_count": 22,
   "id": "b996211a",
   "metadata": {},
   "outputs": [],
   "source": [
    "f = r'D:\\Indian Diabetes\\idrid\\A. Segmentation\\2. All Segmentation Groundtruths\\b. Testing Set\\1. Microaneurysms'"
   ]
  },
  {
   "cell_type": "code",
   "execution_count": 23,
   "id": "6e4f0ee1",
   "metadata": {},
   "outputs": [],
   "source": [
    "for file in os.listdir(f):\n",
    "    f_img = f+\"/\"+file\n",
    "    img = Image.open(f_img)\n",
    "    img = img.resize((536,356))\n",
    "    img.save(f_img)"
   ]
  },
  {
   "cell_type": "markdown",
   "id": "ccc5e0b0",
   "metadata": {},
   "source": [
    "### 2. Haemorrhages"
   ]
  },
  {
   "cell_type": "code",
   "execution_count": 26,
   "id": "c5e3108b",
   "metadata": {},
   "outputs": [],
   "source": [
    "f = r'D:\\Indian Diabetes\\idrid\\A. Segmentation\\2. All Segmentation Groundtruths\\b. Testing Set\\2. Haemorrhages'"
   ]
  },
  {
   "cell_type": "code",
   "execution_count": 27,
   "id": "1e4d7c77",
   "metadata": {},
   "outputs": [],
   "source": [
    "for file in os.listdir(f):\n",
    "    f_img = f+\"/\"+file\n",
    "    img = Image.open(f_img)\n",
    "    img = img.resize((536,356))\n",
    "    img.save(f_img)"
   ]
  },
  {
   "cell_type": "markdown",
   "id": "0c3b38bd",
   "metadata": {},
   "source": [
    "### 3. Hard Exudates"
   ]
  },
  {
   "cell_type": "code",
   "execution_count": 28,
   "id": "9a4b7bf1",
   "metadata": {},
   "outputs": [],
   "source": [
    "f = r'D:\\Indian Diabetes\\idrid\\A. Segmentation\\2. All Segmentation Groundtruths\\b. Testing Set\\3. Hard Exudates'"
   ]
  },
  {
   "cell_type": "code",
   "execution_count": 29,
   "id": "30e7c630",
   "metadata": {},
   "outputs": [],
   "source": [
    "for file in os.listdir(f):\n",
    "    f_img = f+\"/\"+file\n",
    "    img = Image.open(f_img)\n",
    "    img = img.resize((536,356))\n",
    "    img.save(f_img)"
   ]
  },
  {
   "cell_type": "markdown",
   "id": "473d4815",
   "metadata": {},
   "source": [
    "### 4. Soft Exudates"
   ]
  },
  {
   "cell_type": "code",
   "execution_count": 30,
   "id": "93921f9c",
   "metadata": {},
   "outputs": [],
   "source": [
    "f = r'D:\\Indian Diabetes\\idrid\\A. Segmentation\\2. All Segmentation Groundtruths\\b. Testing Set\\4. Soft Exudates'"
   ]
  },
  {
   "cell_type": "code",
   "execution_count": 31,
   "id": "7b998e51",
   "metadata": {},
   "outputs": [],
   "source": [
    "for file in os.listdir(f):\n",
    "    f_img = f+\"/\"+file\n",
    "    img = Image.open(f_img)\n",
    "    img = img.resize((536,356))\n",
    "    img.save(f_img)"
   ]
  },
  {
   "cell_type": "markdown",
   "id": "fb0e564c",
   "metadata": {},
   "source": [
    "### 5. Optic Disc"
   ]
  },
  {
   "cell_type": "code",
   "execution_count": 36,
   "id": "9fcce96c",
   "metadata": {},
   "outputs": [],
   "source": [
    "f = r'D:\\Indian Diabetes\\idrid\\A. Segmentation\\2. All Segmentation Groundtruths\\b. Testing Set\\5. Optic Disc'"
   ]
  },
  {
   "cell_type": "code",
   "execution_count": 37,
   "id": "5d5df203",
   "metadata": {},
   "outputs": [],
   "source": [
    "for file in os.listdir(f):\n",
    "    f_img = f+\"/\"+file\n",
    "    img = Image.open(f_img)\n",
    "    img = img.resize((536,356))\n",
    "    img.save(f_img)"
   ]
  },
  {
   "cell_type": "code",
   "execution_count": 35,
   "id": "6237a3f6",
   "metadata": {},
   "outputs": [],
   "source": [
    "filenames_test = glob.glob(\"J:\\\\Indian Diabetes\\\\idrid\\\\B. Disease Grading\\\\1. Original Images\\\\b. Testing Set//*.jpg\")"
   ]
  },
  {
   "cell_type": "code",
   "execution_count": 36,
   "id": "75429e41",
   "metadata": {},
   "outputs": [
    {
     "name": "stdout",
     "output_type": "stream",
     "text": [
      "(103, 356, 536, 3)\n"
     ]
    }
   ],
   "source": [
    "filenames_test.sort()\n",
    "test_images = [cv2.imread(img) for img in filenames_test]\n",
    "print(np.shape(test_images))"
   ]
  },
  {
   "cell_type": "code",
   "execution_count": 37,
   "id": "c7a9169b",
   "metadata": {},
   "outputs": [],
   "source": [
    "def load_image( infilename ) :\n",
    "    img = Image.open( infilename )\n",
    "    img.load()\n",
    "    data = np.asarray( img, dtype=\"uint8\" )\n",
    "    return data"
   ]
  },
  {
   "cell_type": "code",
   "execution_count": 38,
   "id": "ccb8b4a9",
   "metadata": {
    "scrolled": true
   },
   "outputs": [
    {
     "name": "stdout",
     "output_type": "stream",
     "text": [
      "0\n",
      "1\n",
      "2\n",
      "3\n",
      "4\n",
      "5\n",
      "6\n",
      "7\n",
      "8\n",
      "9\n",
      "10\n",
      "11\n",
      "12\n",
      "13\n",
      "14\n",
      "15\n",
      "16\n",
      "17\n",
      "18\n",
      "19\n",
      "20\n",
      "21\n",
      "22\n",
      "23\n",
      "24\n",
      "25\n",
      "26\n",
      "27\n",
      "28\n",
      "29\n",
      "30\n",
      "31\n",
      "32\n",
      "33\n",
      "34\n",
      "35\n",
      "36\n",
      "37\n",
      "38\n",
      "39\n",
      "40\n",
      "41\n",
      "42\n",
      "43\n",
      "44\n",
      "45\n",
      "46\n",
      "47\n",
      "48\n",
      "49\n",
      "50\n",
      "51\n",
      "52\n",
      "53\n",
      "54\n",
      "55\n",
      "56\n",
      "57\n",
      "58\n",
      "59\n",
      "60\n",
      "61\n",
      "62\n",
      "63\n",
      "64\n",
      "65\n",
      "66\n",
      "67\n",
      "68\n",
      "69\n",
      "70\n",
      "71\n",
      "72\n",
      "73\n",
      "74\n",
      "75\n",
      "76\n",
      "77\n",
      "78\n",
      "79\n",
      "80\n",
      "81\n",
      "82\n",
      "83\n",
      "84\n",
      "85\n",
      "86\n",
      "87\n",
      "88\n",
      "89\n",
      "90\n",
      "91\n",
      "92\n",
      "93\n",
      "94\n",
      "95\n",
      "96\n",
      "97\n",
      "98\n",
      "99\n",
      "100\n",
      "101\n",
      "102\n",
      "(103, 356, 536, 3)\n"
     ]
    }
   ],
   "source": [
    "filenames_test = glob.glob(\"J:\\\\Indian Diabetes\\\\idrid\\\\B. Disease Grading\\\\1. Original Images\\\\b. Testing Set//*.jpg\")\n",
    "filenames_test.sort()\n",
    "# train_images = [load_image(img) for img in filenames]\n",
    "test_images = []\n",
    "count = 0\n",
    "for img in filenames_test:\n",
    "  print(count)\n",
    "  test_images.append(load_image(img))\n",
    "  count += 1\n",
    "print(np.shape(test_images))"
   ]
  },
  {
   "cell_type": "markdown",
   "id": "fb12b398",
   "metadata": {},
   "source": [
    "## CNN"
   ]
  },
  {
   "cell_type": "code",
   "execution_count": 29,
   "id": "eacd8c6c",
   "metadata": {},
   "outputs": [],
   "source": [
    "# keras imports for the dataset and building our neural network\n",
    "from keras.datasets import mnist\n",
    "from keras.models import Sequential\n",
    "from keras.layers import Dense, Dropout, Conv2D, MaxPool2D, Flatten\n",
    "from keras.utils import np_utils"
   ]
  },
  {
   "cell_type": "code",
   "execution_count": 30,
   "id": "b71fa7e4",
   "metadata": {},
   "outputs": [],
   "source": [
    "# to calculate accuracy\n",
    "from sklearn.metrics import accuracy_score"
   ]
  },
  {
   "cell_type": "code",
   "execution_count": null,
   "id": "e0a88b37",
   "metadata": {},
   "outputs": [],
   "source": []
  },
  {
   "cell_type": "code",
   "execution_count": 39,
   "id": "783b1df7",
   "metadata": {},
   "outputs": [
    {
     "name": "stdout",
     "output_type": "stream",
     "text": [
      "Files and directories in ' J:\\Indian Diabetes\\idrid\\B. Disease Grading\\1. Original Images\\a. Training Set ' :\n",
      "['IDRiD_001.jpg', 'IDRiD_002.jpg', 'IDRiD_003.jpg', 'IDRiD_004.jpg', 'IDRiD_005.jpg', 'IDRiD_006.jpg', 'IDRiD_007.jpg', 'IDRiD_008.jpg', 'IDRiD_009.jpg', 'IDRiD_010.jpg', 'IDRiD_011.jpg', 'IDRiD_012.jpg', 'IDRiD_013.jpg', 'IDRiD_014.jpg', 'IDRiD_015.jpg', 'IDRiD_016.jpg', 'IDRiD_017.jpg', 'IDRiD_018.jpg', 'IDRiD_019.jpg', 'IDRiD_020.jpg', 'IDRiD_021.jpg', 'IDRiD_022.jpg', 'IDRiD_023.jpg', 'IDRiD_024.jpg', 'IDRiD_025.jpg', 'IDRiD_026.jpg', 'IDRiD_027.jpg', 'IDRiD_028.jpg', 'IDRiD_029.jpg', 'IDRiD_030.jpg', 'IDRiD_031.jpg', 'IDRiD_032.jpg', 'IDRiD_033.jpg', 'IDRiD_034.jpg', 'IDRiD_035.jpg', 'IDRiD_036.jpg', 'IDRiD_037.jpg', 'IDRiD_038.jpg', 'IDRiD_039.jpg', 'IDRiD_040.jpg', 'IDRiD_041.jpg', 'IDRiD_042.jpg', 'IDRiD_043.jpg', 'IDRiD_044.jpg', 'IDRiD_045.jpg', 'IDRiD_046.jpg', 'IDRiD_047.jpg', 'IDRiD_048.jpg', 'IDRiD_049.jpg', 'IDRiD_050.jpg', 'IDRiD_051.jpg', 'IDRiD_052.jpg', 'IDRiD_053.jpg', 'IDRiD_054.jpg', 'IDRiD_055.jpg', 'IDRiD_056.jpg', 'IDRiD_057.jpg', 'IDRiD_058.jpg', 'IDRiD_059.jpg', 'IDRiD_060.jpg', 'IDRiD_061.jpg', 'IDRiD_062.jpg', 'IDRiD_063.jpg', 'IDRiD_064.jpg', 'IDRiD_065.jpg', 'IDRiD_066.jpg', 'IDRiD_067.jpg', 'IDRiD_068.jpg', 'IDRiD_069.jpg', 'IDRiD_070.jpg', 'IDRiD_071.jpg', 'IDRiD_072.jpg', 'IDRiD_073.jpg', 'IDRiD_074.jpg', 'IDRiD_075.jpg', 'IDRiD_076.jpg', 'IDRiD_077.jpg', 'IDRiD_078.jpg', 'IDRiD_079.jpg', 'IDRiD_080.jpg', 'IDRiD_081.jpg', 'IDRiD_082.jpg', 'IDRiD_083.jpg', 'IDRiD_084.jpg', 'IDRiD_085.jpg', 'IDRiD_086.jpg', 'IDRiD_087.jpg', 'IDRiD_088.jpg', 'IDRiD_089.jpg', 'IDRiD_090.jpg', 'IDRiD_091.jpg', 'IDRiD_092.jpg', 'IDRiD_093.jpg', 'IDRiD_094.jpg', 'IDRiD_095.jpg', 'IDRiD_096.jpg', 'IDRiD_097.jpg', 'IDRiD_098.jpg', 'IDRiD_099.jpg', 'IDRiD_100.jpg', 'IDRiD_101.jpg', 'IDRiD_102.jpg', 'IDRiD_103.jpg', 'IDRiD_104.jpg', 'IDRiD_105.jpg', 'IDRiD_106.jpg', 'IDRiD_107.jpg', 'IDRiD_108.jpg', 'IDRiD_109.jpg', 'IDRiD_110.jpg', 'IDRiD_111.jpg', 'IDRiD_112.jpg', 'IDRiD_113.jpg', 'IDRiD_114.jpg', 'IDRiD_115.jpg', 'IDRiD_116.jpg', 'IDRiD_117.jpg', 'IDRiD_118.jpg', 'IDRiD_119.jpg', 'IDRiD_120.jpg', 'IDRiD_121.jpg', 'IDRiD_122.jpg', 'IDRiD_123.jpg', 'IDRiD_124.jpg', 'IDRiD_125.jpg', 'IDRiD_126.jpg', 'IDRiD_127.jpg', 'IDRiD_128.jpg', 'IDRiD_129.jpg', 'IDRiD_130.jpg', 'IDRiD_131.jpg', 'IDRiD_132.jpg', 'IDRiD_133.jpg', 'IDRiD_134.jpg', 'IDRiD_135.jpg', 'IDRiD_136.jpg', 'IDRiD_137.jpg', 'IDRiD_138.jpg', 'IDRiD_139.jpg', 'IDRiD_140.jpg', 'IDRiD_141.jpg', 'IDRiD_142.jpg', 'IDRiD_143.jpg', 'IDRiD_144.jpg', 'IDRiD_145.jpg', 'IDRiD_146.jpg', 'IDRiD_147.jpg', 'IDRiD_148.jpg', 'IDRiD_149.jpg', 'IDRiD_150.jpg', 'IDRiD_151.jpg', 'IDRiD_152.jpg', 'IDRiD_153.jpg', 'IDRiD_154.jpg', 'IDRiD_155.jpg', 'IDRiD_156.jpg', 'IDRiD_157.jpg', 'IDRiD_158.jpg', 'IDRiD_159.jpg', 'IDRiD_160.jpg', 'IDRiD_161.jpg', 'IDRiD_162.jpg', 'IDRiD_163.jpg', 'IDRiD_164.jpg', 'IDRiD_165.jpg', 'IDRiD_166.jpg', 'IDRiD_167.jpg', 'IDRiD_168.jpg', 'IDRiD_169.jpg', 'IDRiD_170.jpg', 'IDRiD_171.jpg', 'IDRiD_172.jpg', 'IDRiD_173.jpg', 'IDRiD_174.jpg', 'IDRiD_175.jpg', 'IDRiD_176.jpg', 'IDRiD_177.jpg', 'IDRiD_178.jpg', 'IDRiD_179.jpg', 'IDRiD_180.jpg', 'IDRiD_181.jpg', 'IDRiD_182.jpg', 'IDRiD_183.jpg', 'IDRiD_184.jpg', 'IDRiD_185.jpg', 'IDRiD_186.jpg', 'IDRiD_187.jpg', 'IDRiD_188.jpg', 'IDRiD_189.jpg', 'IDRiD_190.jpg', 'IDRiD_191.jpg', 'IDRiD_192.jpg', 'IDRiD_193.jpg', 'IDRiD_194.jpg', 'IDRiD_195.jpg', 'IDRiD_196.jpg', 'IDRiD_197.jpg', 'IDRiD_198.jpg', 'IDRiD_199.jpg', 'IDRiD_200.jpg', 'IDRiD_201.jpg', 'IDRiD_202.jpg', 'IDRiD_203.jpg', 'IDRiD_204.jpg', 'IDRiD_205.jpg', 'IDRiD_206.jpg', 'IDRiD_207.jpg', 'IDRiD_208.jpg', 'IDRiD_209.jpg', 'IDRiD_210.jpg', 'IDRiD_211.jpg', 'IDRiD_212.jpg', 'IDRiD_213.jpg', 'IDRiD_214.jpg', 'IDRiD_215.jpg', 'IDRiD_216.jpg', 'IDRiD_217.jpg', 'IDRiD_218.jpg', 'IDRiD_219.jpg', 'IDRiD_220.jpg', 'IDRiD_221.jpg', 'IDRiD_222.jpg', 'IDRiD_223.jpg', 'IDRiD_224.jpg', 'IDRiD_225.jpg', 'IDRiD_226.jpg', 'IDRiD_227.jpg', 'IDRiD_228.jpg', 'IDRiD_229.jpg', 'IDRiD_230.jpg', 'IDRiD_231.jpg', 'IDRiD_232.jpg', 'IDRiD_233.jpg', 'IDRiD_234.jpg', 'IDRiD_235.jpg', 'IDRiD_236.jpg', 'IDRiD_237.jpg', 'IDRiD_238.jpg', 'IDRiD_239.jpg', 'IDRiD_240.jpg', 'IDRiD_241.jpg', 'IDRiD_242.jpg', 'IDRiD_243.jpg', 'IDRiD_244.jpg', 'IDRiD_245.jpg', 'IDRiD_246.jpg', 'IDRiD_247.jpg', 'IDRiD_248.jpg', 'IDRiD_249.jpg', 'IDRiD_250.jpg', 'IDRiD_251.jpg', 'IDRiD_252.jpg', 'IDRiD_253.jpg', 'IDRiD_254.jpg', 'IDRiD_255.jpg', 'IDRiD_256.jpg', 'IDRiD_257.jpg', 'IDRiD_258.jpg', 'IDRiD_259.jpg', 'IDRiD_260.jpg', 'IDRiD_261.jpg', 'IDRiD_262.jpg', 'IDRiD_263.jpg', 'IDRiD_264.jpg', 'IDRiD_265.jpg', 'IDRiD_266.jpg', 'IDRiD_267.jpg', 'IDRiD_268.jpg', 'IDRiD_269.jpg', 'IDRiD_270.jpg', 'IDRiD_271.jpg', 'IDRiD_272.jpg', 'IDRiD_273.jpg', 'IDRiD_274.jpg', 'IDRiD_275.jpg', 'IDRiD_276.jpg', 'IDRiD_277.jpg', 'IDRiD_278.jpg', 'IDRiD_279.jpg', 'IDRiD_280.jpg', 'IDRiD_281.jpg', 'IDRiD_282.jpg', 'IDRiD_283.jpg', 'IDRiD_284.jpg', 'IDRiD_285.jpg', 'IDRiD_286.jpg', 'IDRiD_287.jpg', 'IDRiD_288.jpg', 'IDRiD_289.jpg', 'IDRiD_290.jpg', 'IDRiD_291.jpg', 'IDRiD_292.jpg', 'IDRiD_293.jpg', 'IDRiD_294.jpg', 'IDRiD_295.jpg', 'IDRiD_296.jpg', 'IDRiD_297.jpg', 'IDRiD_298.jpg', 'IDRiD_299.jpg', 'IDRiD_300.jpg', 'IDRiD_301.jpg', 'IDRiD_302.jpg', 'IDRiD_303.jpg', 'IDRiD_304.jpg', 'IDRiD_305.jpg', 'IDRiD_306.jpg', 'IDRiD_307.jpg', 'IDRiD_308.jpg', 'IDRiD_309.jpg', 'IDRiD_310.jpg', 'IDRiD_311.jpg', 'IDRiD_312.jpg', 'IDRiD_313.jpg', 'IDRiD_314.jpg', 'IDRiD_315.jpg', 'IDRiD_316.jpg', 'IDRiD_317.jpg', 'IDRiD_318.jpg', 'IDRiD_319.jpg', 'IDRiD_320.jpg', 'IDRiD_321.jpg', 'IDRiD_322.jpg', 'IDRiD_323.jpg', 'IDRiD_324.jpg', 'IDRiD_325.jpg', 'IDRiD_326.jpg', 'IDRiD_327.jpg', 'IDRiD_328.jpg', 'IDRiD_329.jpg', 'IDRiD_330.jpg', 'IDRiD_331.jpg', 'IDRiD_332.jpg', 'IDRiD_333.jpg', 'IDRiD_334.jpg', 'IDRiD_335.jpg', 'IDRiD_336.jpg', 'IDRiD_337.jpg', 'IDRiD_338.jpg', 'IDRiD_339.jpg', 'IDRiD_340.jpg', 'IDRiD_341.jpg', 'IDRiD_342.jpg', 'IDRiD_343.jpg', 'IDRiD_344.jpg', 'IDRiD_345.jpg', 'IDRiD_346.jpg', 'IDRiD_347.jpg', 'IDRiD_348.jpg', 'IDRiD_349.jpg', 'IDRiD_350.jpg', 'IDRiD_351.jpg', 'IDRiD_352.jpg', 'IDRiD_353.jpg', 'IDRiD_354.jpg', 'IDRiD_355.jpg', 'IDRiD_356.jpg', 'IDRiD_357.jpg', 'IDRiD_358.jpg', 'IDRiD_359.jpg', 'IDRiD_360.jpg', 'IDRiD_361.jpg', 'IDRiD_362.jpg', 'IDRiD_363.jpg', 'IDRiD_364.jpg', 'IDRiD_365.jpg', 'IDRiD_366.jpg', 'IDRiD_367.jpg', 'IDRiD_368.jpg', 'IDRiD_369.jpg', 'IDRiD_370.jpg', 'IDRiD_371.jpg', 'IDRiD_372.jpg', 'IDRiD_373.jpg', 'IDRiD_374.jpg', 'IDRiD_375.jpg', 'IDRiD_376.jpg', 'IDRiD_377.jpg', 'IDRiD_378.jpg', 'IDRiD_379.jpg', 'IDRiD_380.jpg', 'IDRiD_381.jpg', 'IDRiD_382.jpg', 'IDRiD_383.jpg', 'IDRiD_384.jpg', 'IDRiD_385.jpg', 'IDRiD_386.jpg', 'IDRiD_387.jpg', 'IDRiD_388.jpg', 'IDRiD_389.jpg', 'IDRiD_390.jpg', 'IDRiD_391.jpg', 'IDRiD_392.jpg', 'IDRiD_393.jpg', 'IDRiD_394.jpg', 'IDRiD_395.jpg', 'IDRiD_396.jpg', 'IDRiD_397.jpg', 'IDRiD_398.jpg', 'IDRiD_399.jpg', 'IDRiD_400.jpg', 'IDRiD_401.jpg', 'IDRiD_402.jpg', 'IDRiD_403.jpg', 'IDRiD_404.jpg', 'IDRiD_405.jpg', 'IDRiD_406.jpg', 'IDRiD_407.jpg', 'IDRiD_408.jpg', 'IDRiD_409.jpg', 'IDRiD_410.jpg', 'IDRiD_411.jpg', 'IDRiD_412.jpg', 'IDRiD_413.jpg']\n"
     ]
    }
   ],
   "source": [
    "#Python program to explain os.listdir() method \n",
    "    \n",
    "# importing os module \n",
    "import os\n",
    "  \n",
    "# Get the list of all files and directories\n",
    "# in the root directory\n",
    "path = \"J:\\\\Indian Diabetes\\\\idrid\\\\B. Disease Grading\\\\1. Original Images\\\\a. Training Set\"\n",
    "dir_list = os.listdir(path)\n",
    "  \n",
    "print(\"Files and directories in '\", path, \"' :\") \n",
    "  \n",
    "# print the list\n",
    "print(dir_list)"
   ]
  },
  {
   "cell_type": "code",
   "execution_count": 40,
   "id": "3a10e681",
   "metadata": {},
   "outputs": [],
   "source": [
    "import pandas as pd\n",
    "import numpy as np"
   ]
  },
  {
   "cell_type": "code",
   "execution_count": 41,
   "id": "cf7cc879",
   "metadata": {},
   "outputs": [],
   "source": [
    "df = pd.read_csv(\"a. IDRiD_Disease Grading_Training Labels.csv\")"
   ]
  },
  {
   "cell_type": "code",
   "execution_count": 42,
   "id": "75cc780e",
   "metadata": {},
   "outputs": [
    {
     "data": {
      "text/html": [
       "<div>\n",
       "<style scoped>\n",
       "    .dataframe tbody tr th:only-of-type {\n",
       "        vertical-align: middle;\n",
       "    }\n",
       "\n",
       "    .dataframe tbody tr th {\n",
       "        vertical-align: top;\n",
       "    }\n",
       "\n",
       "    .dataframe thead th {\n",
       "        text-align: right;\n",
       "    }\n",
       "</style>\n",
       "<table border=\"1\" class=\"dataframe\">\n",
       "  <thead>\n",
       "    <tr style=\"text-align: right;\">\n",
       "      <th></th>\n",
       "      <th>Image name</th>\n",
       "      <th>Retinopathy grade</th>\n",
       "      <th>Risk of macular edema</th>\n",
       "      <th>Unnamed: 3</th>\n",
       "      <th>Unnamed: 4</th>\n",
       "      <th>Unnamed: 5</th>\n",
       "      <th>Unnamed: 6</th>\n",
       "      <th>Unnamed: 7</th>\n",
       "      <th>Unnamed: 8</th>\n",
       "      <th>Unnamed: 9</th>\n",
       "      <th>Unnamed: 10</th>\n",
       "      <th>Unnamed: 11</th>\n",
       "    </tr>\n",
       "  </thead>\n",
       "  <tbody>\n",
       "    <tr>\n",
       "      <th>0</th>\n",
       "      <td>IDRiD_001</td>\n",
       "      <td>3</td>\n",
       "      <td>2</td>\n",
       "      <td>NaN</td>\n",
       "      <td>NaN</td>\n",
       "      <td>NaN</td>\n",
       "      <td>NaN</td>\n",
       "      <td>NaN</td>\n",
       "      <td>NaN</td>\n",
       "      <td>NaN</td>\n",
       "      <td>NaN</td>\n",
       "      <td>NaN</td>\n",
       "    </tr>\n",
       "    <tr>\n",
       "      <th>1</th>\n",
       "      <td>IDRiD_002</td>\n",
       "      <td>3</td>\n",
       "      <td>2</td>\n",
       "      <td>NaN</td>\n",
       "      <td>NaN</td>\n",
       "      <td>NaN</td>\n",
       "      <td>NaN</td>\n",
       "      <td>NaN</td>\n",
       "      <td>NaN</td>\n",
       "      <td>NaN</td>\n",
       "      <td>NaN</td>\n",
       "      <td>NaN</td>\n",
       "    </tr>\n",
       "    <tr>\n",
       "      <th>2</th>\n",
       "      <td>IDRiD_003</td>\n",
       "      <td>2</td>\n",
       "      <td>2</td>\n",
       "      <td>NaN</td>\n",
       "      <td>NaN</td>\n",
       "      <td>NaN</td>\n",
       "      <td>NaN</td>\n",
       "      <td>NaN</td>\n",
       "      <td>NaN</td>\n",
       "      <td>NaN</td>\n",
       "      <td>NaN</td>\n",
       "      <td>NaN</td>\n",
       "    </tr>\n",
       "    <tr>\n",
       "      <th>3</th>\n",
       "      <td>IDRiD_004</td>\n",
       "      <td>3</td>\n",
       "      <td>2</td>\n",
       "      <td>NaN</td>\n",
       "      <td>NaN</td>\n",
       "      <td>NaN</td>\n",
       "      <td>NaN</td>\n",
       "      <td>NaN</td>\n",
       "      <td>NaN</td>\n",
       "      <td>NaN</td>\n",
       "      <td>NaN</td>\n",
       "      <td>NaN</td>\n",
       "    </tr>\n",
       "    <tr>\n",
       "      <th>4</th>\n",
       "      <td>IDRiD_005</td>\n",
       "      <td>4</td>\n",
       "      <td>0</td>\n",
       "      <td>NaN</td>\n",
       "      <td>NaN</td>\n",
       "      <td>NaN</td>\n",
       "      <td>NaN</td>\n",
       "      <td>NaN</td>\n",
       "      <td>NaN</td>\n",
       "      <td>NaN</td>\n",
       "      <td>NaN</td>\n",
       "      <td>NaN</td>\n",
       "    </tr>\n",
       "  </tbody>\n",
       "</table>\n",
       "</div>"
      ],
      "text/plain": [
       "  Image name  Retinopathy grade  Risk of macular edema   Unnamed: 3  \\\n",
       "0  IDRiD_001                  3                       2         NaN   \n",
       "1  IDRiD_002                  3                       2         NaN   \n",
       "2  IDRiD_003                  2                       2         NaN   \n",
       "3  IDRiD_004                  3                       2         NaN   \n",
       "4  IDRiD_005                  4                       0         NaN   \n",
       "\n",
       "   Unnamed: 4  Unnamed: 5  Unnamed: 6  Unnamed: 7  Unnamed: 8  Unnamed: 9  \\\n",
       "0         NaN         NaN         NaN         NaN         NaN         NaN   \n",
       "1         NaN         NaN         NaN         NaN         NaN         NaN   \n",
       "2         NaN         NaN         NaN         NaN         NaN         NaN   \n",
       "3         NaN         NaN         NaN         NaN         NaN         NaN   \n",
       "4         NaN         NaN         NaN         NaN         NaN         NaN   \n",
       "\n",
       "   Unnamed: 10 Unnamed: 11  \n",
       "0          NaN         NaN  \n",
       "1          NaN         NaN  \n",
       "2          NaN         NaN  \n",
       "3          NaN         NaN  \n",
       "4          NaN         NaN  "
      ]
     },
     "execution_count": 42,
     "metadata": {},
     "output_type": "execute_result"
    }
   ],
   "source": [
    "df.head()"
   ]
  },
  {
   "cell_type": "code",
   "execution_count": 43,
   "id": "267bc893",
   "metadata": {},
   "outputs": [
    {
     "data": {
      "text/plain": [
       "(413, 12)"
      ]
     },
     "execution_count": 43,
     "metadata": {},
     "output_type": "execute_result"
    }
   ],
   "source": [
    "df.shape"
   ]
  },
  {
   "cell_type": "code",
   "execution_count": 48,
   "id": "ffadbce1",
   "metadata": {},
   "outputs": [],
   "source": [
    "df = df.drop(df.iloc[:,3:12], axis = 1)"
   ]
  },
  {
   "cell_type": "code",
   "execution_count": 49,
   "id": "3390c8bb",
   "metadata": {},
   "outputs": [
    {
     "data": {
      "text/html": [
       "<div>\n",
       "<style scoped>\n",
       "    .dataframe tbody tr th:only-of-type {\n",
       "        vertical-align: middle;\n",
       "    }\n",
       "\n",
       "    .dataframe tbody tr th {\n",
       "        vertical-align: top;\n",
       "    }\n",
       "\n",
       "    .dataframe thead th {\n",
       "        text-align: right;\n",
       "    }\n",
       "</style>\n",
       "<table border=\"1\" class=\"dataframe\">\n",
       "  <thead>\n",
       "    <tr style=\"text-align: right;\">\n",
       "      <th></th>\n",
       "      <th>Image name</th>\n",
       "      <th>Retinopathy grade</th>\n",
       "      <th>Risk of macular edema</th>\n",
       "    </tr>\n",
       "  </thead>\n",
       "  <tbody>\n",
       "    <tr>\n",
       "      <th>0</th>\n",
       "      <td>IDRiD_001</td>\n",
       "      <td>3</td>\n",
       "      <td>2</td>\n",
       "    </tr>\n",
       "    <tr>\n",
       "      <th>1</th>\n",
       "      <td>IDRiD_002</td>\n",
       "      <td>3</td>\n",
       "      <td>2</td>\n",
       "    </tr>\n",
       "    <tr>\n",
       "      <th>2</th>\n",
       "      <td>IDRiD_003</td>\n",
       "      <td>2</td>\n",
       "      <td>2</td>\n",
       "    </tr>\n",
       "    <tr>\n",
       "      <th>3</th>\n",
       "      <td>IDRiD_004</td>\n",
       "      <td>3</td>\n",
       "      <td>2</td>\n",
       "    </tr>\n",
       "    <tr>\n",
       "      <th>4</th>\n",
       "      <td>IDRiD_005</td>\n",
       "      <td>4</td>\n",
       "      <td>0</td>\n",
       "    </tr>\n",
       "    <tr>\n",
       "      <th>...</th>\n",
       "      <td>...</td>\n",
       "      <td>...</td>\n",
       "      <td>...</td>\n",
       "    </tr>\n",
       "    <tr>\n",
       "      <th>408</th>\n",
       "      <td>IDRiD_409</td>\n",
       "      <td>2</td>\n",
       "      <td>1</td>\n",
       "    </tr>\n",
       "    <tr>\n",
       "      <th>409</th>\n",
       "      <td>IDRiD_410</td>\n",
       "      <td>2</td>\n",
       "      <td>0</td>\n",
       "    </tr>\n",
       "    <tr>\n",
       "      <th>410</th>\n",
       "      <td>IDRiD_411</td>\n",
       "      <td>2</td>\n",
       "      <td>0</td>\n",
       "    </tr>\n",
       "    <tr>\n",
       "      <th>411</th>\n",
       "      <td>IDRiD_412</td>\n",
       "      <td>2</td>\n",
       "      <td>0</td>\n",
       "    </tr>\n",
       "    <tr>\n",
       "      <th>412</th>\n",
       "      <td>IDRiD_413</td>\n",
       "      <td>2</td>\n",
       "      <td>0</td>\n",
       "    </tr>\n",
       "  </tbody>\n",
       "</table>\n",
       "<p>413 rows × 3 columns</p>\n",
       "</div>"
      ],
      "text/plain": [
       "    Image name  Retinopathy grade  Risk of macular edema \n",
       "0    IDRiD_001                  3                       2\n",
       "1    IDRiD_002                  3                       2\n",
       "2    IDRiD_003                  2                       2\n",
       "3    IDRiD_004                  3                       2\n",
       "4    IDRiD_005                  4                       0\n",
       "..         ...                ...                     ...\n",
       "408  IDRiD_409                  2                       1\n",
       "409  IDRiD_410                  2                       0\n",
       "410  IDRiD_411                  2                       0\n",
       "411  IDRiD_412                  2                       0\n",
       "412  IDRiD_413                  2                       0\n",
       "\n",
       "[413 rows x 3 columns]"
      ]
     },
     "execution_count": 49,
     "metadata": {},
     "output_type": "execute_result"
    }
   ],
   "source": [
    "df"
   ]
  },
  {
   "cell_type": "code",
   "execution_count": null,
   "id": "d9a44c2d",
   "metadata": {},
   "outputs": [],
   "source": []
  }
 ],
 "metadata": {
  "kernelspec": {
   "display_name": "Python 3 (ipykernel)",
   "language": "python",
   "name": "python3"
  },
  "language_info": {
   "codemirror_mode": {
    "name": "ipython",
    "version": 3
   },
   "file_extension": ".py",
   "mimetype": "text/x-python",
   "name": "python",
   "nbconvert_exporter": "python",
   "pygments_lexer": "ipython3",
   "version": "3.9.7"
  }
 },
 "nbformat": 4,
 "nbformat_minor": 5
}
